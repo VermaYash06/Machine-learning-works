{
 "cells": [
  {
   "cell_type": "code",
   "execution_count": 1,
   "id": "744482e7",
   "metadata": {},
   "outputs": [
    {
     "name": "stdout",
     "output_type": "stream",
     "text": [
      "Enter size of Array : 2\n",
      "Enter value 1 : 12\n",
      "Enter value 2 : 12\n",
      "[12 12]\n"
     ]
    }
   ],
   "source": [
    "import numpy as np \n",
    "\n",
    "li = []\n",
    "size = int(input(\"Enter size of Array : \"))\n",
    "\n",
    "for i in range(size):\n",
    "    val = int(input(f\"Enter value {i+1} : \"))\n",
    "    li.append(val)\n",
    "arr = np.array(li)\n",
    "print(arr)"
   ]
  },
  {
   "cell_type": "markdown",
   "id": "29e467c4",
   "metadata": {},
   "source": [
    "# How to check shape and size of an array?\n"
   ]
  },
  {
   "cell_type": "code",
   "execution_count": 2,
   "id": "541866bb",
   "metadata": {},
   "outputs": [
    {
     "name": "stdout",
     "output_type": "stream",
     "text": [
      "2 (2,)\n"
     ]
    }
   ],
   "source": [
    "print(arr.size, arr.shape)"
   ]
  },
  {
   "cell_type": "code",
   "execution_count": 3,
   "id": "40ce93ab",
   "metadata": {},
   "outputs": [
    {
     "data": {
      "text/plain": [
       "array([[1, 2, 3],\n",
       "       [4, 5, 6],\n",
       "       [7, 8, 9]])"
      ]
     },
     "execution_count": 3,
     "metadata": {},
     "output_type": "execute_result"
    }
   ],
   "source": [
    "a = [[1,2,3], [4,5,6], [7,8,9]]\n",
    "b = np.array(a)\n",
    "b"
   ]
  },
  {
   "cell_type": "code",
   "execution_count": 4,
   "id": "2c5ba455",
   "metadata": {},
   "outputs": [
    {
     "name": "stdout",
     "output_type": "stream",
     "text": [
      "Total Shape =  (3, 3)\n",
      "Total Element =  9\n"
     ]
    }
   ],
   "source": [
    "print(\"Total Shape = \",b.shape)\n",
    "print(\"Total Element = \", b.size)"
   ]
  },
  {
   "cell_type": "code",
   "execution_count": 5,
   "id": "a69dcdef",
   "metadata": {},
   "outputs": [
    {
     "data": {
      "text/plain": [
       "'\\nr1 = [1,2,3]\\nr2 = [4,5,6]\\nr3 = [7,8,9]\\n\\nc1 = [1,4,7]\\nc2 = [2,5,8]\\nc3 = [3,6,9]\\n'"
      ]
     },
     "execution_count": 5,
     "metadata": {},
     "output_type": "execute_result"
    }
   ],
   "source": [
    "'''\n",
    "r1 = [1,2,3]\n",
    "r2 = [4,5,6]\n",
    "r3 = [7,8,9]\n",
    "\n",
    "c1 = [1,4,7]\n",
    "c2 = [2,5,8]\n",
    "c3 = [3,6,9]\n",
    "'''"
   ]
  },
  {
   "cell_type": "code",
   "execution_count": 6,
   "id": "7aeffd56",
   "metadata": {},
   "outputs": [],
   "source": [
    "#Image ===> pixels ===> (0-255)px ===> 0px (complete black), 255px\n",
    "#convert ===> grayscale Image ===>\n",
    "# Image(Pixels) ===> Normalization(0-1) ===> 0px black, 1px white\n",
    "\n",
    "# 0, 1 ===> Neoron System\n",
    "\n",
    "#Matrix ===> rows, columns\n",
    "#Symmetric Matrix ===> n(rows) = n(colemns)\n",
    "#Asymmetric Matrix ===> n(rows) != n(columns)\n",
    "#Diagonal Elements = [(1,1), (2,2), (3,3)]\n"
   ]
  },
  {
   "cell_type": "markdown",
   "id": "f9183539",
   "metadata": {},
   "source": [
    "# (1). zeros ===> It will crate an array in which all the elements are zero."
   ]
  },
  {
   "cell_type": "code",
   "execution_count": 7,
   "id": "5073a89e",
   "metadata": {},
   "outputs": [
    {
     "data": {
      "text/plain": [
       "array([0., 0., 0., 0.])"
      ]
     },
     "execution_count": 7,
     "metadata": {},
     "output_type": "execute_result"
    }
   ],
   "source": [
    "a= np.zeros(4)\n",
    "a"
   ]
  },
  {
   "cell_type": "code",
   "execution_count": 8,
   "id": "48e8c01e",
   "metadata": {},
   "outputs": [
    {
     "data": {
      "text/plain": [
       "array([[0., 0., 0., 0.],\n",
       "       [0., 0., 0., 0.],\n",
       "       [0., 0., 0., 0.]])"
      ]
     },
     "execution_count": 8,
     "metadata": {},
     "output_type": "execute_result"
    }
   ],
   "source": [
    "a = np.zeros((3,4))\n",
    "a"
   ]
  },
  {
   "cell_type": "markdown",
   "id": "bc7bf326",
   "metadata": {},
   "source": [
    "# (2). ones() ===> It will crate an array in which all the elements are one."
   ]
  },
  {
   "cell_type": "code",
   "execution_count": 9,
   "id": "00782db7",
   "metadata": {},
   "outputs": [
    {
     "data": {
      "text/plain": [
       "array([1., 1., 1.])"
      ]
     },
     "execution_count": 9,
     "metadata": {},
     "output_type": "execute_result"
    }
   ],
   "source": [
    "a = np.ones(3)\n",
    "a"
   ]
  },
  {
   "cell_type": "code",
   "execution_count": 10,
   "id": "523c2585",
   "metadata": {},
   "outputs": [
    {
     "data": {
      "text/plain": [
       "array([[1., 1., 1.],\n",
       "       [1., 1., 1.]])"
      ]
     },
     "execution_count": 10,
     "metadata": {},
     "output_type": "execute_result"
    }
   ],
   "source": [
    "b = np.ones((2,3))\n",
    "b"
   ]
  },
  {
   "cell_type": "markdown",
   "id": "1565e827",
   "metadata": {},
   "source": [
    "# (3). eye() ===> This function will create an array with diagonal values as 1s and rest all are 0s"
   ]
  },
  {
   "cell_type": "code",
   "execution_count": 11,
   "id": "f7ee2bd9",
   "metadata": {},
   "outputs": [
    {
     "data": {
      "text/plain": [
       "array([[1., 0., 0., 0.],\n",
       "       [0., 1., 0., 0.],\n",
       "       [0., 0., 1., 0.]])"
      ]
     },
     "execution_count": 11,
     "metadata": {},
     "output_type": "execute_result"
    }
   ],
   "source": [
    "a = np.eye(3,4) #Asymmetric\n",
    "a"
   ]
  },
  {
   "cell_type": "code",
   "execution_count": 12,
   "id": "8047871e",
   "metadata": {},
   "outputs": [
    {
     "data": {
      "text/plain": [
       "array([[1., 0., 0., 0.],\n",
       "       [0., 1., 0., 0.],\n",
       "       [0., 0., 1., 0.],\n",
       "       [0., 0., 0., 1.]])"
      ]
     },
     "execution_count": 12,
     "metadata": {},
     "output_type": "execute_result"
    }
   ],
   "source": [
    "a = np.eye(4) #Symmetric  Matrix\n",
    "a"
   ]
  },
  {
   "cell_type": "markdown",
   "id": "e136d7c3",
   "metadata": {},
   "source": [
    "# (4). Diag ==> this function creates a two dimensional array with all the diagonal element as the given value and rest are zeros"
   ]
  },
  {
   "cell_type": "code",
   "execution_count": 13,
   "id": "ffb4e8bf",
   "metadata": {},
   "outputs": [
    {
     "data": {
      "text/plain": [
       "array([[1, 0, 0, 0],\n",
       "       [0, 4, 0, 0],\n",
       "       [0, 0, 8, 0],\n",
       "       [0, 0, 0, 9]])"
      ]
     },
     "execution_count": 13,
     "metadata": {},
     "output_type": "execute_result"
    }
   ],
   "source": [
    "import numpy as np\n",
    "a = np.diag([1,4,8,9])\n",
    "a"
   ]
  },
  {
   "cell_type": "markdown",
   "id": "48dad298",
   "metadata": {},
   "source": [
    "# (5). randint ==> this function is used to generate a random number between a given range.\n",
    "\n",
    "syntax == randint(min_value, max_value, totalnumber)"
   ]
  },
  {
   "cell_type": "code",
   "execution_count": 14,
   "id": "726f3ead",
   "metadata": {},
   "outputs": [
    {
     "data": {
      "text/plain": [
       "array([9, 7, 3])"
      ]
     },
     "execution_count": 14,
     "metadata": {},
     "output_type": "execute_result"
    }
   ],
   "source": [
    "import numpy as np\n",
    "a = np.random.randint(1,10,3)\n",
    "a"
   ]
  },
  {
   "cell_type": "markdown",
   "id": "8728bb84",
   "metadata": {},
   "source": [
    "# (6). This fuinction is used to generate a random number between 0 to 1.\n",
    "\n",
    "Syntax  == rand(number of values)"
   ]
  },
  {
   "cell_type": "code",
   "execution_count": 15,
   "id": "9963d3f5",
   "metadata": {},
   "outputs": [
    {
     "data": {
      "text/plain": [
       "array([0.71783564, 0.65475332, 0.80409844, 0.27756062, 0.50217453])"
      ]
     },
     "execution_count": 15,
     "metadata": {},
     "output_type": "execute_result"
    }
   ],
   "source": [
    "import numpy as np\n",
    "a = np.random.rand(5)\n",
    "a"
   ]
  },
  {
   "cell_type": "markdown",
   "id": "abbb6526",
   "metadata": {},
   "source": [
    "# (7). randn() ==> This function is used to generate a random a number from -3 to 3. This may return postive or negative number as well.\n",
    "\n",
    "Syntax ==> random.randn(number of values)"
   ]
  },
  {
   "cell_type": "code",
   "execution_count": 16,
   "id": "2b4b4105",
   "metadata": {},
   "outputs": [
    {
     "data": {
      "text/plain": [
       "array([-1.58530869,  1.55364645, -1.02527904,  0.94734494, -0.93649024])"
      ]
     },
     "execution_count": 16,
     "metadata": {},
     "output_type": "execute_result"
    }
   ],
   "source": [
    "import numpy as np\n",
    "a = np.random.randn(5)\n",
    "a\n"
   ]
  },
  {
   "cell_type": "markdown",
   "id": "67eb9bdc",
   "metadata": {},
   "source": [
    "# Reshpaing data"
   ]
  },
  {
   "cell_type": "code",
   "execution_count": 17,
   "id": "9022d209",
   "metadata": {},
   "outputs": [
    {
     "data": {
      "text/plain": [
       "array([17,  9, 20, 44, 12, 49, 14, 20, 43, 43, 31, 37])"
      ]
     },
     "execution_count": 17,
     "metadata": {},
     "output_type": "execute_result"
    }
   ],
   "source": [
    "import numpy as np\n",
    "a =np.random.randint(0,50,12)\n",
    "a"
   ]
  },
  {
   "cell_type": "markdown",
   "id": "764c7c72",
   "metadata": {},
   "source": [
    "# n(rows)*n(columns) = n(total_elements)"
   ]
  },
  {
   "cell_type": "code",
   "execution_count": 18,
   "id": "d700403b",
   "metadata": {},
   "outputs": [
    {
     "data": {
      "text/plain": [
       "(12,)"
      ]
     },
     "execution_count": 18,
     "metadata": {},
     "output_type": "execute_result"
    }
   ],
   "source": [
    "a.shape"
   ]
  },
  {
   "cell_type": "code",
   "execution_count": 19,
   "id": "0bcf7b46",
   "metadata": {},
   "outputs": [
    {
     "data": {
      "text/plain": [
       "array([[17,  9, 20, 44, 12, 49],\n",
       "       [14, 20, 43, 43, 31, 37]])"
      ]
     },
     "execution_count": 19,
     "metadata": {},
     "output_type": "execute_result"
    }
   ],
   "source": [
    "a = a.reshape(2,6)\n",
    "a"
   ]
  },
  {
   "cell_type": "code",
   "execution_count": 20,
   "id": "1cc11f51",
   "metadata": {},
   "outputs": [
    {
     "data": {
      "text/plain": [
       "array([[17,  9, 20, 44],\n",
       "       [12, 49, 14, 20],\n",
       "       [43, 43, 31, 37]])"
      ]
     },
     "execution_count": 20,
     "metadata": {},
     "output_type": "execute_result"
    }
   ],
   "source": [
    "a = a.reshape(3,4)\n",
    "a"
   ]
  },
  {
   "cell_type": "code",
   "execution_count": 21,
   "id": "6f940bd7",
   "metadata": {},
   "outputs": [
    {
     "data": {
      "text/plain": [
       "array([[17,  9, 20],\n",
       "       [44, 12, 49],\n",
       "       [14, 20, 43],\n",
       "       [43, 31, 37]])"
      ]
     },
     "execution_count": 21,
     "metadata": {},
     "output_type": "execute_result"
    }
   ],
   "source": [
    "a = a.reshape(4,3)\n",
    "a"
   ]
  },
  {
   "cell_type": "code",
   "execution_count": 22,
   "id": "5703ebc9",
   "metadata": {},
   "outputs": [
    {
     "data": {
      "text/plain": [
       "array([[17,  9],\n",
       "       [20, 44],\n",
       "       [12, 49],\n",
       "       [14, 20],\n",
       "       [43, 43],\n",
       "       [31, 37]])"
      ]
     },
     "execution_count": 22,
     "metadata": {},
     "output_type": "execute_result"
    }
   ],
   "source": [
    "a = a.reshape(6,2)\n",
    "a"
   ]
  },
  {
   "cell_type": "code",
   "execution_count": 23,
   "id": "0e237dd2",
   "metadata": {},
   "outputs": [
    {
     "data": {
      "text/plain": [
       "array([[17],\n",
       "       [ 9],\n",
       "       [20],\n",
       "       [44],\n",
       "       [12],\n",
       "       [49],\n",
       "       [14],\n",
       "       [20],\n",
       "       [43],\n",
       "       [43],\n",
       "       [31],\n",
       "       [37]])"
      ]
     },
     "execution_count": 23,
     "metadata": {},
     "output_type": "execute_result"
    }
   ],
   "source": [
    "a = a.reshape(12,1)\n",
    "a"
   ]
  },
  {
   "cell_type": "markdown",
   "id": "3baffcd1",
   "metadata": {},
   "source": [
    "# Q : for 64 `"
   ]
  },
  {
   "cell_type": "code",
   "execution_count": 24,
   "id": "972cff1c",
   "metadata": {},
   "outputs": [
    {
     "data": {
      "text/plain": [
       "array([ 2, 97, 87, 58, 34, 45, 14, 75, 70, 78,  7, 71, 43, 93, 32, 75, 72,\n",
       "       30, 61, 35, 40, 42, 93, 88, 65, 67, 86,  5, 32, 73, 29, 84, 15, 39,\n",
       "       72, 82, 58,  0, 55, 83, 77, 60, 90, 33, 70, 69,  0, 90, 19, 92, 18,\n",
       "       82, 98, 51, 71, 89, 60, 89, 35, 78, 52, 24, 11, 56])"
      ]
     },
     "execution_count": 24,
     "metadata": {},
     "output_type": "execute_result"
    }
   ],
   "source": [
    "import numpy as np\n",
    "a =np.random.randint(0,100,64)\n",
    "a"
   ]
  },
  {
   "cell_type": "code",
   "execution_count": 25,
   "id": "60e6d564",
   "metadata": {},
   "outputs": [
    {
     "data": {
      "text/plain": [
       "array([[ 2, 97, 87, 58, 34, 45, 14, 75, 70, 78,  7, 71, 43, 93, 32, 75,\n",
       "        72, 30, 61, 35, 40, 42, 93, 88, 65, 67, 86,  5, 32, 73, 29, 84,\n",
       "        15, 39, 72, 82, 58,  0, 55, 83, 77, 60, 90, 33, 70, 69,  0, 90,\n",
       "        19, 92, 18, 82, 98, 51, 71, 89, 60, 89, 35, 78, 52, 24, 11, 56]])"
      ]
     },
     "execution_count": 25,
     "metadata": {},
     "output_type": "execute_result"
    }
   ],
   "source": [
    "a = a.reshape(1,64)\n",
    "a"
   ]
  },
  {
   "cell_type": "code",
   "execution_count": 26,
   "id": "9527f74d",
   "metadata": {},
   "outputs": [
    {
     "data": {
      "text/plain": [
       "array([[ 2, 97, 87, 58, 34, 45, 14, 75, 70, 78,  7, 71, 43, 93, 32, 75,\n",
       "        72, 30, 61, 35, 40, 42, 93, 88, 65, 67, 86,  5, 32, 73, 29, 84],\n",
       "       [15, 39, 72, 82, 58,  0, 55, 83, 77, 60, 90, 33, 70, 69,  0, 90,\n",
       "        19, 92, 18, 82, 98, 51, 71, 89, 60, 89, 35, 78, 52, 24, 11, 56]])"
      ]
     },
     "execution_count": 26,
     "metadata": {},
     "output_type": "execute_result"
    }
   ],
   "source": [
    "a = a.reshape(2,32)\n",
    "a"
   ]
  },
  {
   "cell_type": "code",
   "execution_count": 27,
   "id": "b27c6e9c",
   "metadata": {},
   "outputs": [
    {
     "data": {
      "text/plain": [
       "array([[ 2, 97, 87, 58, 34, 45, 14, 75, 70, 78,  7, 71, 43, 93, 32, 75],\n",
       "       [72, 30, 61, 35, 40, 42, 93, 88, 65, 67, 86,  5, 32, 73, 29, 84],\n",
       "       [15, 39, 72, 82, 58,  0, 55, 83, 77, 60, 90, 33, 70, 69,  0, 90],\n",
       "       [19, 92, 18, 82, 98, 51, 71, 89, 60, 89, 35, 78, 52, 24, 11, 56]])"
      ]
     },
     "execution_count": 27,
     "metadata": {},
     "output_type": "execute_result"
    }
   ],
   "source": [
    "a = a.reshape(4,16)\n",
    "a"
   ]
  },
  {
   "cell_type": "code",
   "execution_count": 28,
   "id": "3d94445c",
   "metadata": {},
   "outputs": [
    {
     "data": {
      "text/plain": [
       "array([[ 2, 97, 87, 58, 34, 45, 14, 75],\n",
       "       [70, 78,  7, 71, 43, 93, 32, 75],\n",
       "       [72, 30, 61, 35, 40, 42, 93, 88],\n",
       "       [65, 67, 86,  5, 32, 73, 29, 84],\n",
       "       [15, 39, 72, 82, 58,  0, 55, 83],\n",
       "       [77, 60, 90, 33, 70, 69,  0, 90],\n",
       "       [19, 92, 18, 82, 98, 51, 71, 89],\n",
       "       [60, 89, 35, 78, 52, 24, 11, 56]])"
      ]
     },
     "execution_count": 28,
     "metadata": {},
     "output_type": "execute_result"
    }
   ],
   "source": [
    "a = a.reshape(8,8)\n",
    "a"
   ]
  },
  {
   "cell_type": "code",
   "execution_count": 29,
   "id": "e30f079a",
   "metadata": {},
   "outputs": [
    {
     "data": {
      "text/plain": [
       "array([[ 2, 97, 87, 58],\n",
       "       [34, 45, 14, 75],\n",
       "       [70, 78,  7, 71],\n",
       "       [43, 93, 32, 75],\n",
       "       [72, 30, 61, 35],\n",
       "       [40, 42, 93, 88],\n",
       "       [65, 67, 86,  5],\n",
       "       [32, 73, 29, 84],\n",
       "       [15, 39, 72, 82],\n",
       "       [58,  0, 55, 83],\n",
       "       [77, 60, 90, 33],\n",
       "       [70, 69,  0, 90],\n",
       "       [19, 92, 18, 82],\n",
       "       [98, 51, 71, 89],\n",
       "       [60, 89, 35, 78],\n",
       "       [52, 24, 11, 56]])"
      ]
     },
     "execution_count": 29,
     "metadata": {},
     "output_type": "execute_result"
    }
   ],
   "source": [
    "a = a.reshape(16,4)\n",
    "a"
   ]
  },
  {
   "cell_type": "code",
   "execution_count": 30,
   "id": "fc0db878",
   "metadata": {},
   "outputs": [
    {
     "data": {
      "text/plain": [
       "array([[ 2, 97],\n",
       "       [87, 58],\n",
       "       [34, 45],\n",
       "       [14, 75],\n",
       "       [70, 78],\n",
       "       [ 7, 71],\n",
       "       [43, 93],\n",
       "       [32, 75],\n",
       "       [72, 30],\n",
       "       [61, 35],\n",
       "       [40, 42],\n",
       "       [93, 88],\n",
       "       [65, 67],\n",
       "       [86,  5],\n",
       "       [32, 73],\n",
       "       [29, 84],\n",
       "       [15, 39],\n",
       "       [72, 82],\n",
       "       [58,  0],\n",
       "       [55, 83],\n",
       "       [77, 60],\n",
       "       [90, 33],\n",
       "       [70, 69],\n",
       "       [ 0, 90],\n",
       "       [19, 92],\n",
       "       [18, 82],\n",
       "       [98, 51],\n",
       "       [71, 89],\n",
       "       [60, 89],\n",
       "       [35, 78],\n",
       "       [52, 24],\n",
       "       [11, 56]])"
      ]
     },
     "execution_count": 30,
     "metadata": {},
     "output_type": "execute_result"
    }
   ],
   "source": [
    "a = a.reshape(32,2)\n",
    "a"
   ]
  },
  {
   "cell_type": "code",
   "execution_count": 31,
   "id": "65899ea7",
   "metadata": {},
   "outputs": [
    {
     "data": {
      "text/plain": [
       "array([[ 2],\n",
       "       [97],\n",
       "       [87],\n",
       "       [58],\n",
       "       [34],\n",
       "       [45],\n",
       "       [14],\n",
       "       [75],\n",
       "       [70],\n",
       "       [78],\n",
       "       [ 7],\n",
       "       [71],\n",
       "       [43],\n",
       "       [93],\n",
       "       [32],\n",
       "       [75],\n",
       "       [72],\n",
       "       [30],\n",
       "       [61],\n",
       "       [35],\n",
       "       [40],\n",
       "       [42],\n",
       "       [93],\n",
       "       [88],\n",
       "       [65],\n",
       "       [67],\n",
       "       [86],\n",
       "       [ 5],\n",
       "       [32],\n",
       "       [73],\n",
       "       [29],\n",
       "       [84],\n",
       "       [15],\n",
       "       [39],\n",
       "       [72],\n",
       "       [82],\n",
       "       [58],\n",
       "       [ 0],\n",
       "       [55],\n",
       "       [83],\n",
       "       [77],\n",
       "       [60],\n",
       "       [90],\n",
       "       [33],\n",
       "       [70],\n",
       "       [69],\n",
       "       [ 0],\n",
       "       [90],\n",
       "       [19],\n",
       "       [92],\n",
       "       [18],\n",
       "       [82],\n",
       "       [98],\n",
       "       [51],\n",
       "       [71],\n",
       "       [89],\n",
       "       [60],\n",
       "       [89],\n",
       "       [35],\n",
       "       [78],\n",
       "       [52],\n",
       "       [24],\n",
       "       [11],\n",
       "       [56]])"
      ]
     },
     "execution_count": 31,
     "metadata": {},
     "output_type": "execute_result"
    }
   ],
   "source": [
    "a = a.reshape(64,1)\n",
    "a"
   ]
  },
  {
   "cell_type": "markdown",
   "id": "7c3c61b2",
   "metadata": {},
   "source": [
    "# Principle of -1"
   ]
  },
  {
   "cell_type": "code",
   "execution_count": 33,
   "id": "f27f95e9",
   "metadata": {},
   "outputs": [
    {
     "data": {
      "text/plain": [
       "array([[ 2, 97, 87, 58, 34, 45, 14, 75],\n",
       "       [70, 78,  7, 71, 43, 93, 32, 75],\n",
       "       [72, 30, 61, 35, 40, 42, 93, 88],\n",
       "       [65, 67, 86,  5, 32, 73, 29, 84],\n",
       "       [15, 39, 72, 82, 58,  0, 55, 83],\n",
       "       [77, 60, 90, 33, 70, 69,  0, 90],\n",
       "       [19, 92, 18, 82, 98, 51, 71, 89],\n",
       "       [60, 89, 35, 78, 52, 24, 11, 56]])"
      ]
     },
     "execution_count": 33,
     "metadata": {},
     "output_type": "execute_result"
    }
   ],
   "source": [
    "a.reshape(-1,8)"
   ]
  },
  {
   "cell_type": "markdown",
   "id": "1ad073d0",
   "metadata": {},
   "source": [
    "# seed function() ==> We know that randint function generates random numbers. Everytime we run the program, new set of random number is genrated. So, solve this problem we will use seed function.\n"
   ]
  },
  {
   "cell_type": "code",
   "execution_count": 74,
   "id": "05b4d9c0",
   "metadata": {},
   "outputs": [
    {
     "data": {
      "text/plain": [
       "array([38, 13, 73, 10, 76,  6, 80, 65, 17,  2])"
      ]
     },
     "execution_count": 74,
     "metadata": {},
     "output_type": "execute_result"
    }
   ],
   "source": [
    "import numpy as np\n",
    "a= np.random.randint(1,100,10)\n",
    "np.random.seed(1)\n",
    "a"
   ]
  },
  {
   "cell_type": "markdown",
   "id": "16fdf639",
   "metadata": {},
   "source": [
    "## View vs Copy ==> When we slice a sub-array from an array, It may be done by two ways.\n"
   ]
  },
  {
   "cell_type": "markdown",
   "id": "c540775f",
   "metadata": {},
   "source": [
    "## View"
   ]
  },
  {
   "cell_type": "code",
   "execution_count": 75,
   "id": "bd440635",
   "metadata": {},
   "outputs": [
    {
     "data": {
      "text/plain": [
       "array([12, 12, 53,  0,  0, 13,  4, 32])"
      ]
     },
     "execution_count": 75,
     "metadata": {},
     "output_type": "execute_result"
    }
   ],
   "source": [
    "import numpy as np\n",
    "a = np.array([12,12,53,23,24,13,4,32])\n",
    "b = a[3:5]\n",
    "b[:] = 0\n",
    "a"
   ]
  },
  {
   "cell_type": "markdown",
   "id": "3181dfed",
   "metadata": {},
   "source": [
    "## Copy"
   ]
  },
  {
   "cell_type": "code",
   "execution_count": 76,
   "id": "4cd9b470",
   "metadata": {},
   "outputs": [
    {
     "data": {
      "text/plain": [
       "array([12, 12, 53, 23, 24, 13,  4, 32])"
      ]
     },
     "execution_count": 76,
     "metadata": {},
     "output_type": "execute_result"
    }
   ],
   "source": [
    "a = np.array([12,12,53,23,24,13,4,32])\n",
    "b = a[3:5].copy()\n",
    "b[:] = 0\n",
    "a"
   ]
  },
  {
   "cell_type": "markdown",
   "id": "0ae458ee",
   "metadata": {},
   "source": [
    "## conditional selection"
   ]
  },
  {
   "cell_type": "code",
   "execution_count": 77,
   "id": "ea7f0ec9",
   "metadata": {},
   "outputs": [
    {
     "data": {
      "text/plain": [
       "array([ 1,  2,  3,  4,  5,  6,  7,  8,  9, 10, 11, 12, 13, 14, 15])"
      ]
     },
     "execution_count": 77,
     "metadata": {},
     "output_type": "execute_result"
    }
   ],
   "source": [
    "import numpy as np\n",
    "a = np.arange(1,16)\n",
    "a"
   ]
  },
  {
   "cell_type": "code",
   "execution_count": 78,
   "id": "57d52feb",
   "metadata": {},
   "outputs": [
    {
     "data": {
      "text/plain": [
       "array([False, False, False, False, False, False, False, False, False,\n",
       "       False,  True,  True,  True,  True,  True])"
      ]
     },
     "execution_count": 78,
     "metadata": {},
     "output_type": "execute_result"
    }
   ],
   "source": [
    "a>10"
   ]
  },
  {
   "cell_type": "code",
   "execution_count": 79,
   "id": "8751f716",
   "metadata": {},
   "outputs": [
    {
     "data": {
      "text/plain": [
       "array([ True,  True,  True,  True,  True,  True,  True,  True,  True,\n",
       "       False, False, False, False, False, False])"
      ]
     },
     "execution_count": 79,
     "metadata": {},
     "output_type": "execute_result"
    }
   ],
   "source": [
    "a<10"
   ]
  },
  {
   "cell_type": "code",
   "execution_count": 80,
   "id": "c8d741f2",
   "metadata": {},
   "outputs": [
    {
     "data": {
      "text/plain": [
       "array([11, 12, 13, 14, 15])"
      ]
     },
     "execution_count": 80,
     "metadata": {},
     "output_type": "execute_result"
    }
   ],
   "source": [
    "b = a>10\n",
    "a[b]"
   ]
  },
  {
   "cell_type": "code",
   "execution_count": 81,
   "id": "a0154a1c",
   "metadata": {},
   "outputs": [
    {
     "data": {
      "text/plain": [
       "array([ 2,  4,  6,  8, 10, 12, 14])"
      ]
     },
     "execution_count": 81,
     "metadata": {},
     "output_type": "execute_result"
    }
   ],
   "source": [
    "a[a%2==0]"
   ]
  },
  {
   "cell_type": "markdown",
   "id": "3ffe372c",
   "metadata": {},
   "source": [
    "## Operations on Array"
   ]
  },
  {
   "cell_type": "code",
   "execution_count": 82,
   "id": "213ee320",
   "metadata": {},
   "outputs": [
    {
     "data": {
      "text/plain": [
       "array([2, 4, 6, 8])"
      ]
     },
     "execution_count": 82,
     "metadata": {},
     "output_type": "execute_result"
    }
   ],
   "source": [
    "import numpy as np\n",
    "a = np.arange(1,5)\n",
    "a*2"
   ]
  },
  {
   "cell_type": "code",
   "execution_count": 83,
   "id": "a1eee18b",
   "metadata": {},
   "outputs": [
    {
     "data": {
      "text/plain": [
       "array([3, 4, 5, 6])"
      ]
     },
     "execution_count": 83,
     "metadata": {},
     "output_type": "execute_result"
    }
   ],
   "source": [
    "a+2"
   ]
  },
  {
   "cell_type": "code",
   "execution_count": 84,
   "id": "da99bc1d",
   "metadata": {},
   "outputs": [
    {
     "data": {
      "text/plain": [
       "array([ 1,  4,  9, 16])"
      ]
     },
     "execution_count": 84,
     "metadata": {},
     "output_type": "execute_result"
    }
   ],
   "source": [
    "a**2"
   ]
  },
  {
   "cell_type": "code",
   "execution_count": 85,
   "id": "a47b9c81",
   "metadata": {},
   "outputs": [
    {
     "data": {
      "text/plain": [
       "array([[1, 2],\n",
       "       [3, 4]])"
      ]
     },
     "execution_count": 85,
     "metadata": {},
     "output_type": "execute_result"
    }
   ],
   "source": [
    "a = np.array([1,2,3,4]).reshape(2,2)\n",
    "a"
   ]
  },
  {
   "cell_type": "code",
   "execution_count": 86,
   "id": "e88fac84",
   "metadata": {},
   "outputs": [
    {
     "data": {
      "text/plain": [
       "array([[5, 6],\n",
       "       [7, 8]])"
      ]
     },
     "execution_count": 86,
     "metadata": {},
     "output_type": "execute_result"
    }
   ],
   "source": [
    "b = np.array([5,6,7,8]).reshape(2,2)\n",
    "b"
   ]
  },
  {
   "cell_type": "code",
   "execution_count": 87,
   "id": "dc29555d",
   "metadata": {},
   "outputs": [
    {
     "data": {
      "text/plain": [
       "array([[ 6,  8],\n",
       "       [10, 12]])"
      ]
     },
     "execution_count": 87,
     "metadata": {},
     "output_type": "execute_result"
    }
   ],
   "source": [
    "a+b"
   ]
  },
  {
   "cell_type": "code",
   "execution_count": 88,
   "id": "281e2382",
   "metadata": {},
   "outputs": [
    {
     "data": {
      "text/plain": [
       "array([[4, 4],\n",
       "       [4, 4]])"
      ]
     },
     "execution_count": 88,
     "metadata": {},
     "output_type": "execute_result"
    }
   ],
   "source": [
    "b-a"
   ]
  },
  {
   "cell_type": "code",
   "execution_count": 89,
   "id": "0db74531",
   "metadata": {},
   "outputs": [
    {
     "data": {
      "text/plain": [
       "array([[5.        , 3.        ],\n",
       "       [2.33333333, 2.        ]])"
      ]
     },
     "execution_count": 89,
     "metadata": {},
     "output_type": "execute_result"
    }
   ],
   "source": [
    "b/a"
   ]
  },
  {
   "cell_type": "code",
   "execution_count": 90,
   "id": "de9ccf96",
   "metadata": {},
   "outputs": [
    {
     "data": {
      "text/plain": [
       "array([[ 5, 12],\n",
       "       [21, 32]])"
      ]
     },
     "execution_count": 90,
     "metadata": {},
     "output_type": "execute_result"
    }
   ],
   "source": [
    "b*a"
   ]
  },
  {
   "cell_type": "code",
   "execution_count": 91,
   "id": "ff397ed6",
   "metadata": {},
   "outputs": [
    {
     "data": {
      "text/plain": [
       "array([[19, 22],\n",
       "       [43, 50]])"
      ]
     },
     "execution_count": 91,
     "metadata": {},
     "output_type": "execute_result"
    }
   ],
   "source": [
    "a.dot(b)"
   ]
  },
  {
   "cell_type": "code",
   "execution_count": 92,
   "id": "a55fefe3",
   "metadata": {},
   "outputs": [
    {
     "data": {
      "text/plain": [
       "10"
      ]
     },
     "execution_count": 92,
     "metadata": {},
     "output_type": "execute_result"
    }
   ],
   "source": [
    "import numpy as np\n",
    "a = np.array([10,20,30,40,50])\n",
    "np.min(a)"
   ]
  },
  {
   "cell_type": "code",
   "execution_count": 93,
   "id": "41bbb6ff",
   "metadata": {},
   "outputs": [
    {
     "data": {
      "text/plain": [
       "50"
      ]
     },
     "execution_count": 93,
     "metadata": {},
     "output_type": "execute_result"
    }
   ],
   "source": [
    "np.max(a)"
   ]
  },
  {
   "cell_type": "code",
   "execution_count": 94,
   "id": "56cd4ba7",
   "metadata": {},
   "outputs": [
    {
     "data": {
      "text/plain": [
       "0"
      ]
     },
     "execution_count": 94,
     "metadata": {},
     "output_type": "execute_result"
    }
   ],
   "source": [
    "np.argmin(a)"
   ]
  },
  {
   "cell_type": "code",
   "execution_count": 95,
   "id": "78653ee1",
   "metadata": {},
   "outputs": [
    {
     "data": {
      "text/plain": [
       "4"
      ]
     },
     "execution_count": 95,
     "metadata": {},
     "output_type": "execute_result"
    }
   ],
   "source": [
    "np.argmax(a)"
   ]
  },
  {
   "cell_type": "code",
   "execution_count": 96,
   "id": "9832ced7",
   "metadata": {},
   "outputs": [
    {
     "data": {
      "text/plain": [
       "array([3.16227766, 4.47213595, 5.47722558, 6.32455532, 7.07106781])"
      ]
     },
     "execution_count": 96,
     "metadata": {},
     "output_type": "execute_result"
    }
   ],
   "source": [
    "np.sqrt(a)"
   ]
  },
  {
   "cell_type": "code",
   "execution_count": 97,
   "id": "7cbc8d22",
   "metadata": {},
   "outputs": [
    {
     "data": {
      "text/plain": [
       "array([-0.54402111,  0.91294525, -0.98803162,  0.74511316, -0.26237485])"
      ]
     },
     "execution_count": 97,
     "metadata": {},
     "output_type": "execute_result"
    }
   ],
   "source": [
    "np.sin(a)"
   ]
  },
  {
   "cell_type": "markdown",
   "id": "087077cf",
   "metadata": {},
   "source": [
    "## Linspace() ==> This function returns value between a given range and with a same gap between consecutive elements.\n"
   ]
  },
  {
   "cell_type": "code",
   "execution_count": 108,
   "id": "d72372b2",
   "metadata": {},
   "outputs": [
    {
     "data": {
      "text/plain": [
       "array([ 1.  ,  5.75, 10.5 , 15.25, 20.  ])"
      ]
     },
     "execution_count": 108,
     "metadata": {},
     "output_type": "execute_result"
    }
   ],
   "source": [
    "import numpy as np\n",
    "a= np.linspace(1,20,5)\n",
    "a\n"
   ]
  },
  {
   "cell_type": "markdown",
   "id": "bca513af",
   "metadata": {},
   "source": [
    "## np.unique(arr,return_index = True, return_count = True)\n",
    "\n",
    "returns 3 array ==> 1.the array contain unique values. 2. The array with respective index values. 3. The array with counting of frequency of each element."
   ]
  },
  {
   "cell_type": "code",
   "execution_count": 112,
   "id": "9140155e",
   "metadata": {},
   "outputs": [
    {
     "data": {
      "text/plain": [
       "(array([10, 20, 30, 40, 50, 68, 90]),\n",
       " array([0, 1, 2, 6, 7, 4, 3], dtype=int64),\n",
       " array([0, 1, 2, 6, 5, 6, 3, 4], dtype=int64))"
      ]
     },
     "execution_count": 112,
     "metadata": {},
     "output_type": "execute_result"
    }
   ],
   "source": [
    "a = np.array([10,20,30,90,68,90,40,50])\n",
    "np.unique(a,True,True)"
   ]
  },
  {
   "cell_type": "markdown",
   "id": "09a605ce",
   "metadata": {},
   "source": [
    "## Horizontal and verticle stacking"
   ]
  },
  {
   "cell_type": "code",
   "execution_count": 113,
   "id": "07dc7b53",
   "metadata": {},
   "outputs": [
    {
     "data": {
      "text/plain": [
       "array([1, 2, 3, 4])"
      ]
     },
     "execution_count": 113,
     "metadata": {},
     "output_type": "execute_result"
    }
   ],
   "source": [
    "a = np.array([1,2,3,4])\n",
    "b = np.array([5,6,7,8])\n",
    "a"
   ]
  },
  {
   "cell_type": "code",
   "execution_count": 114,
   "id": "81068ea4",
   "metadata": {},
   "outputs": [
    {
     "data": {
      "text/plain": [
       "array([5, 6, 7, 8])"
      ]
     },
     "execution_count": 114,
     "metadata": {},
     "output_type": "execute_result"
    }
   ],
   "source": [
    "b"
   ]
  },
  {
   "cell_type": "code",
   "execution_count": 115,
   "id": "4e2fe8f9",
   "metadata": {},
   "outputs": [
    {
     "data": {
      "text/plain": [
       "array([1, 2, 3, 4, 5, 6, 7, 8])"
      ]
     },
     "execution_count": 115,
     "metadata": {},
     "output_type": "execute_result"
    }
   ],
   "source": [
    "np.hstack((a,b))"
   ]
  },
  {
   "cell_type": "code",
   "execution_count": 116,
   "id": "e23a39b9",
   "metadata": {},
   "outputs": [
    {
     "data": {
      "text/plain": [
       "array([[1, 2, 3, 4],\n",
       "       [5, 6, 7, 8]])"
      ]
     },
     "execution_count": 116,
     "metadata": {},
     "output_type": "execute_result"
    }
   ],
   "source": [
    "np.vstack((a,b))"
   ]
  },
  {
   "cell_type": "code",
   "execution_count": null,
   "id": "55223d77",
   "metadata": {},
   "outputs": [],
   "source": []
  },
  {
   "cell_type": "code",
   "execution_count": null,
   "id": "f247e372",
   "metadata": {},
   "outputs": [],
   "source": []
  },
  {
   "cell_type": "code",
   "execution_count": null,
   "id": "2c5188af",
   "metadata": {},
   "outputs": [],
   "source": []
  },
  {
   "cell_type": "code",
   "execution_count": null,
   "id": "a14e1702",
   "metadata": {},
   "outputs": [],
   "source": []
  },
  {
   "cell_type": "code",
   "execution_count": null,
   "id": "5b9bb0a9",
   "metadata": {},
   "outputs": [],
   "source": []
  },
  {
   "cell_type": "code",
   "execution_count": null,
   "id": "a1d86907",
   "metadata": {},
   "outputs": [],
   "source": []
  },
  {
   "cell_type": "code",
   "execution_count": null,
   "id": "f2d2cddf",
   "metadata": {},
   "outputs": [],
   "source": []
  },
  {
   "cell_type": "code",
   "execution_count": null,
   "id": "a0d7dcdf",
   "metadata": {},
   "outputs": [],
   "source": []
  }
 ],
 "metadata": {
  "kernelspec": {
   "display_name": "Python 3 (ipykernel)",
   "language": "python",
   "name": "python3"
  },
  "language_info": {
   "codemirror_mode": {
    "name": "ipython",
    "version": 3
   },
   "file_extension": ".py",
   "mimetype": "text/x-python",
   "name": "python",
   "nbconvert_exporter": "python",
   "pygments_lexer": "ipython3",
   "version": "3.10.9"
  }
 },
 "nbformat": 4,
 "nbformat_minor": 5
}
